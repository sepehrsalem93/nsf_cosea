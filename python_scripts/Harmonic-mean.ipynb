{
 "cells": [
  {
   "cell_type": "code",
   "execution_count": 14,
   "metadata": {},
   "outputs": [
    {
     "name": "stdout",
     "output_type": "stream",
     "text": [
      "   Unique_ID  White_Weighted_Avg_Distance  Black_Weighted_Avg_Distance  \\\n",
      "0    6010103                  4772.934744                  5074.387778   \n",
      "1    6050189                  3027.685638                  3394.648795   \n",
      "2    6060199                  8566.517970                  9995.201346   \n",
      "3    6070101                  3658.826579                  2943.062404   \n",
      "4    6073052                  2672.059036                  3287.458103   \n",
      "\n",
      "   Asian_Weighted_Avg_Distance  Hispanic_Weighted_Avg_Distance  \n",
      "0                  5790.555069                     4377.931403  \n",
      "1                  4648.340311                     3122.824685  \n",
      "2                  7545.309484                    10531.762670  \n",
      "3                  2965.448216                     3586.739614  \n",
      "4                  5400.902657                     2380.713755  \n"
     ]
    }
   ],
   "source": [
    "import pandas as pd\n",
    "\n",
    "data = pd.read_csv('.csv')\n",
    "\n",
    "def calculate_weighted_average(data, unique_id_col, distance_col, population_cols):\n",
    "    results = []\n",
    "\n",
    "\n",
    "    grouped = data.groupby(unique_id_col)\n",
    "\n",
    "    for school_id, group in grouped:\n",
    "        school_result = {'Unique_ID': school_id}\n",
    "\n",
    "        for pop_col in population_cols:\n",
    "            numerator = group[pop_col].sum()\n",
    "            denominator = (group[pop_col] / group[distance_col]).sum()\n",
    "\n",
    "            if denominator != 0:\n",
    "                weighted_average = numerator / denominator\n",
    "            else:\n",
    "                weighted_average = None \n",
    "\n",
    "            school_result[f'{pop_col}_Weighted_Avg_Distance'] = weighted_average\n",
    "\n",
    "        results.append(school_result)\n",
    "\n",
    "    return pd.DataFrame(results)\n",
    "\n",
    "\n",
    "unique_id_col = 'Unique_ID'\n",
    "distance_col = 'DistanceMeters'\n",
    "population_cols = ['White', 'Black', 'Asian', 'Hispanic']\n",
    "\n",
    "weighted_averages = calculate_weighted_average(data, unique_id_col, distance_col, population_cols)\n",
    "\n",
    "output_file = '.csv'\n",
    "weighted_averages.to_csv(output_file, index=False)\n",
    "\n",
    "print(weighted_averages.head())\n"
   ]
  }
 ],
 "metadata": {
  "language_info": {
   "name": "python"
  }
 },
 "nbformat": 4,
 "nbformat_minor": 2
}
